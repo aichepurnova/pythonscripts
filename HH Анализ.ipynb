{
 "cells": [
  {
   "cell_type": "code",
   "execution_count": 1,
   "metadata": {},
   "outputs": [],
   "source": [
    "import requests\n",
    "import pandas as pd\n",
    "from google_currency import convert\n",
    "import json"
   ]
  },
  {
   "cell_type": "code",
   "execution_count": 2,
   "metadata": {},
   "outputs": [],
   "source": [
    "# as max num of rows is always 2000 this parameters should be the same \n",
    "# (Except for key words, obv)\n",
    "\n",
    "number_of_pages = 20\n",
    "per_page = 100\n",
    "key_words = [\"Нарративный дизайнер\", \"Редактор\", \"Копирайтер\"]"
   ]
  },
  {
   "cell_type": "code",
   "execution_count": 3,
   "metadata": {},
   "outputs": [],
   "source": [
    "# convert to pandas df\n",
    "\n",
    "def convert_to_df(data):\n",
    "    df_page_list = pd.DataFrame(data)\n",
    "    df = pd.DataFrame()\n",
    "\n",
    "    for item in df_page_list['items']:\n",
    "        df_item = pd.DataFrame(item)\n",
    "        df = pd.concat([df, df_item]).reset_index(drop=True)\n",
    "    \n",
    "    for column in df.columns:\n",
    "        try:\n",
    "            keys = df[column][0].keys()\n",
    "            for key in keys:\n",
    "                new_col_name = column+'_'+key\n",
    "                df[new_col_name] = [d.get(key) for d in df[column]]\n",
    "        except:\n",
    "            df[column] = df[column]\n",
    "\n",
    "    print('Total row count: ', len(df))\n",
    "    return df"
   ]
  },
  {
   "cell_type": "code",
   "execution_count": 4,
   "metadata": {},
   "outputs": [],
   "source": [
    "# get ex rates\n",
    "\n",
    "def get_ex_rates(df, cur_column='salary_currency'):\n",
    "    ex_rates = []\n",
    "    for cur in df[cur_column].unique():\n",
    "        ex_rate = float(json.loads(convert(cur.lower(), 'rur', 1))['amount'])\n",
    "        ex_rates.append([cur, ex_rate])\n",
    "    ex_rates = pd.DataFrame(ex_rates)\n",
    "    ex_rates.columns = [cur_column, 'ex_rate']\n",
    "    df = df.merge(ex_rates, how='left', on = cur_column)\n",
    "    return df"
   ]
  },
  {
   "cell_type": "code",
   "execution_count": 5,
   "metadata": {},
   "outputs": [],
   "source": [
    "# get taxes\n",
    "\n",
    "def get_taxes(df, code_col='salary_currency'):\n",
    "\n",
    "# sorry it was faster to make it as a list \n",
    "# please feel free to add more countries\n",
    "\n",
    "    taxes = pd.DataFrame({\n",
    "        code_col:['RUR', 'EUR', 'BYR', 'USD', 'UZS', 'KZT', 'GEL', 'KGS'],\n",
    "        'tax_rate':[0.13, 0.378, 0.13, 0.37, 0.12, 0.10, 0.2, 0.15]})\n",
    "    df = df.merge(taxes, how='left', on = code_col)\n",
    "    return df"
   ]
  },
  {
   "cell_type": "code",
   "execution_count": 6,
   "metadata": {},
   "outputs": [],
   "source": [
    "# calculate aprx salary (in rubles, avg between from and to)\n",
    "\n",
    "def calculate_aprx_salary(df):\n",
    "    df['aprx_salary_rub'] = df[['salary_from', 'salary_to']].mean(axis=1)\n",
    "    df['aprx_salary_rub'] = df['aprx_salary_rub']*df['ex_rate']\n",
    "    df.loc[df['salary_gross']==True, 'aprx_salary_rub'] = \\\n",
    "    df['aprx_salary_rub'] - df['aprx_salary_rub']*df['tax_rate']\n",
    "    df['aprx_salary_q'] = round(df['aprx_salary_rub']/25000,0)*25000\n",
    "    \n",
    "    return df"
   ]
  },
  {
   "cell_type": "code",
   "execution_count": 7,
   "metadata": {},
   "outputs": [
    {
     "name": "stdout",
     "output_type": "stream",
     "text": [
      "Total row count:  3495\n"
     ]
    }
   ],
   "source": [
    "# load general data with parameters (hh limit - 2000 rows)\n",
    "\n",
    "data=[]\n",
    "for word in key_words:\n",
    "    for i in range(number_of_pages):\n",
    "        url = 'https://api.hh.ru/vacancies'\n",
    "        par = {'text': word, \n",
    "               'per_page':per_page, \n",
    "               'page':i,\n",
    "               'only_with_salary': 'true',\n",
    "               'employment': 'full',\n",
    "              }\n",
    "        r = requests.get(url, params=par)\n",
    "        e=r.json()\n",
    "        data.append(e) \n",
    "\n",
    "total_vacancies = e['found']\n",
    "\n",
    "df_general = convert_to_df(data)\n",
    "df_general = get_ex_rates(df_general)\n",
    "df_general = get_taxes(df_general)\n",
    "df_general = calculate_aprx_salary(df_general)"
   ]
  },
  {
   "cell_type": "code",
   "execution_count": 8,
   "metadata": {},
   "outputs": [
    {
     "name": "stdout",
     "output_type": "stream",
     "text": [
      "Total vacancies:  1494\n",
      "Mean salary (LIM: 2000 vacancies):  62556.02163919885\n"
     ]
    },
    {
     "data": {
      "text/html": [
       "<div>\n",
       "<style scoped>\n",
       "    .dataframe tbody tr th:only-of-type {\n",
       "        vertical-align: middle;\n",
       "    }\n",
       "\n",
       "    .dataframe tbody tr th {\n",
       "        vertical-align: top;\n",
       "    }\n",
       "\n",
       "    .dataframe thead th {\n",
       "        text-align: right;\n",
       "    }\n",
       "</style>\n",
       "<table border=\"1\" class=\"dataframe\">\n",
       "  <thead>\n",
       "    <tr style=\"text-align: right;\">\n",
       "      <th></th>\n",
       "      <th>id</th>\n",
       "    </tr>\n",
       "    <tr>\n",
       "      <th>aprx_salary_q</th>\n",
       "      <th></th>\n",
       "    </tr>\n",
       "  </thead>\n",
       "  <tbody>\n",
       "    <tr>\n",
       "      <th>0.0</th>\n",
       "      <td>12</td>\n",
       "    </tr>\n",
       "    <tr>\n",
       "      <th>25000.0</th>\n",
       "      <td>725</td>\n",
       "    </tr>\n",
       "    <tr>\n",
       "      <th>50000.0</th>\n",
       "      <td>1495</td>\n",
       "    </tr>\n",
       "    <tr>\n",
       "      <th>75000.0</th>\n",
       "      <td>670</td>\n",
       "    </tr>\n",
       "    <tr>\n",
       "      <th>100000.0</th>\n",
       "      <td>345</td>\n",
       "    </tr>\n",
       "    <tr>\n",
       "      <th>125000.0</th>\n",
       "      <td>116</td>\n",
       "    </tr>\n",
       "    <tr>\n",
       "      <th>150000.0</th>\n",
       "      <td>59</td>\n",
       "    </tr>\n",
       "    <tr>\n",
       "      <th>175000.0</th>\n",
       "      <td>28</td>\n",
       "    </tr>\n",
       "    <tr>\n",
       "      <th>200000.0</th>\n",
       "      <td>17</td>\n",
       "    </tr>\n",
       "    <tr>\n",
       "      <th>225000.0</th>\n",
       "      <td>7</td>\n",
       "    </tr>\n",
       "    <tr>\n",
       "      <th>250000.0</th>\n",
       "      <td>7</td>\n",
       "    </tr>\n",
       "    <tr>\n",
       "      <th>275000.0</th>\n",
       "      <td>3</td>\n",
       "    </tr>\n",
       "    <tr>\n",
       "      <th>300000.0</th>\n",
       "      <td>3</td>\n",
       "    </tr>\n",
       "    <tr>\n",
       "      <th>350000.0</th>\n",
       "      <td>1</td>\n",
       "    </tr>\n",
       "    <tr>\n",
       "      <th>400000.0</th>\n",
       "      <td>5</td>\n",
       "    </tr>\n",
       "    <tr>\n",
       "      <th>425000.0</th>\n",
       "      <td>2</td>\n",
       "    </tr>\n",
       "  </tbody>\n",
       "</table>\n",
       "</div>"
      ],
      "text/plain": [
       "                 id\n",
       "aprx_salary_q      \n",
       "0.0              12\n",
       "25000.0         725\n",
       "50000.0        1495\n",
       "75000.0         670\n",
       "100000.0        345\n",
       "125000.0        116\n",
       "150000.0         59\n",
       "175000.0         28\n",
       "200000.0         17\n",
       "225000.0          7\n",
       "250000.0          7\n",
       "275000.0          3\n",
       "300000.0          3\n",
       "350000.0          1\n",
       "400000.0          5\n",
       "425000.0          2"
      ]
     },
     "execution_count": 8,
     "metadata": {},
     "output_type": "execute_result"
    }
   ],
   "source": [
    "print('Total vacancies: ', total_vacancies)\n",
    "print('Mean salary (LIM: 2000 vacancies): ', df_general['aprx_salary_rub'].mean())\n",
    "df_general.groupby('aprx_salary_q').count()[['id']]"
   ]
  },
  {
   "cell_type": "code",
   "execution_count": 9,
   "metadata": {},
   "outputs": [
    {
     "name": "stdout",
     "output_type": "stream",
     "text": [
      "Total row count:  746\n"
     ]
    }
   ],
   "source": [
    "# load data with salary>125000 rub (hh limit - 2000 rows)\n",
    "\n",
    "data=[]\n",
    "for word in key_words:\n",
    "    for i in range(number_of_pages):\n",
    "        url = 'https://api.hh.ru/vacancies'\n",
    "        par = {'text': word, \n",
    "               'per_page':per_page, \n",
    "               'page':i,\n",
    "               'only_with_salary': 'true',\n",
    "               'employment': 'full',\n",
    "               'salary':125000\n",
    "              }\n",
    "        r = requests.get(url, params=par)\n",
    "        e=r.json()\n",
    "        data.append(e) \n",
    "        \n",
    "selected_vacancies = e['found']\n",
    "\n",
    "df_selected = convert_to_df(data)\n",
    "df_selected = get_ex_rates(df_selected)\n",
    "df_selected = get_taxes(df_selected)\n",
    "df_selected = calculate_aprx_salary(df_selected)"
   ]
  },
  {
   "cell_type": "code",
   "execution_count": 10,
   "metadata": {},
   "outputs": [
    {
     "name": "stdout",
     "output_type": "stream",
     "text": [
      "Total vacancies:  1494\n",
      "selected_vacancies:  232\n",
      "Share of jobs with 125k+ salary:  16.0 %\n"
     ]
    }
   ],
   "source": [
    "print('Total vacancies: ', total_vacancies)\n",
    "print('selected_vacancies: ', selected_vacancies)\n",
    "print('Share of jobs with 125k+ salary: ', \n",
    "      round(selected_vacancies/total_vacancies,2)*100,\n",
    "      '%')"
   ]
  },
  {
   "cell_type": "code",
   "execution_count": 11,
   "metadata": {},
   "outputs": [],
   "source": [
    "from collections import Counter\n",
    "\n",
    "df_selected[\"snippet_requirement\"] = df_selected[\"snippet_requirement\"].fillna('')\n",
    "for i in ['<highlighttext>', '</highlighttext>', '<highlighttext>', '</highlighttext>']:\n",
    "    df_selected[\"snippet_requirement\"] = df_selected[\"snippet_requirement\"].replace(i, '')\n",
    "    \n",
    "    \n",
    "words = Counter(\" \".join(df_selected[\"snippet_requirement\"]).split()).most_common(100)"
   ]
  },
  {
   "cell_type": "code",
   "execution_count": 12,
   "metadata": {},
   "outputs": [
    {
     "data": {
      "text/plain": [
       "[('и', 566),\n",
       " ('в', 471),\n",
       " ('работы', 360),\n",
       " ('Опыт', 330),\n",
       " ('с', 271),\n",
       " ('Знание', 174),\n",
       " ('-', 155),\n",
       " ('опыт', 152),\n",
       " ('от', 136),\n",
       " ('Умение', 134),\n",
       " ('или', 104),\n",
       " ('графическими', 104),\n",
       " ('на', 100),\n",
       " ('работать', 99),\n",
       " ('Владение', 95),\n",
       " ('знание', 74),\n",
       " ('графических', 73),\n",
       " ('лет.', 69),\n",
       " ('пользователь', 62),\n",
       " ('для', 61),\n",
       " ('программами', 60),\n",
       " ('MS', 58),\n",
       " ('к', 55),\n",
       " ('Excel,', 55),\n",
       " ('умение', 52),\n",
       " ('–', 51),\n",
       " ('графические', 50),\n",
       " ('владение', 49),\n",
       " ('Microsoft', 47),\n",
       " ('Навыки', 45),\n",
       " ('<highlighttext>редакторы</highlighttext>', 40),\n",
       " ('ПК', 40),\n",
       " ('не', 38),\n",
       " ('программ', 38),\n",
       " ('по', 37),\n",
       " ('Высшее', 37),\n",
       " ('Adobe', 37),\n",
       " ('области', 36),\n",
       " ('Уверенное', 36),\n",
       " ('Понимание', 35),\n",
       " ('<highlighttext>редакторами</highlighttext>.', 35),\n",
       " ('3', 33),\n",
       " ('лет', 33),\n",
       " ('сфере', 33),\n",
       " ('Уверенный', 33),\n",
       " ('навыки', 32),\n",
       " ('3-х', 32),\n",
       " ('<highlighttext>редакторами</highlighttext>', 31),\n",
       " ('основ', 30),\n",
       " ('/', 29),\n",
       " ('уровень', 29),\n",
       " ('Office', 28),\n",
       " ('уровне', 28),\n",
       " ('документации', 28),\n",
       " ('другие', 28),\n",
       " ('Photoshop,', 27),\n",
       " ('1', 27),\n",
       " ('знания', 27),\n",
       " ('образование', 27),\n",
       " ('<highlighttext>редакторы</highlighttext>,', 27),\n",
       " ('офисные', 26),\n",
       " ('PDF', 26),\n",
       " ('<highlighttext>редакторов</highlighttext>', 25),\n",
       " ('(Word,', 25),\n",
       " ('будет', 24),\n",
       " ('аналогичной', 24),\n",
       " ('года.', 24),\n",
       " ('офисными', 24),\n",
       " ('Образование', 24),\n",
       " ('следующими', 24),\n",
       " ('компьютерными', 24),\n",
       " ('(Autocad,', 24),\n",
       " ('Word/Excel,', 24),\n",
       " ('приложения).', 24),\n",
       " ('нормативно-технической', 24),\n",
       " ('проектировании...', 24),\n",
       " ('Word,', 23),\n",
       " ('Excel', 23),\n",
       " ('Стремление', 23),\n",
       " ('управления', 22),\n",
       " ('основных', 22),\n",
       " ('разработки', 22),\n",
       " ('мебели.', 22),\n",
       " ('дизайна,', 22),\n",
       " ('развитию', 22),\n",
       " ('должности', 21),\n",
       " ('как', 21),\n",
       " ('<highlighttext>редакторы</highlighttext>.', 21),\n",
       " ('Google', 21),\n",
       " ('архитектуры,', 21),\n",
       " ('программами.', 21),\n",
       " ('самосовершенствованию.', 21),\n",
       " ('и...', 20),\n",
       " ('Office,', 20),\n",
       " ('...и', 19),\n",
       " ('<highlighttext>редакторах</highlighttext>.', 19),\n",
       " ('Наличие', 19),\n",
       " ('др.', 19),\n",
       " ('пользователя', 19),\n",
       " ('проектирования', 19)]"
      ]
     },
     "execution_count": 12,
     "metadata": {},
     "output_type": "execute_result"
    }
   ],
   "source": [
    "words"
   ]
  },
  {
   "cell_type": "code",
   "execution_count": 13,
   "metadata": {},
   "outputs": [],
   "source": [
    "df_general.to_csv('GeneralHHoutput.csv')\n",
    "df_selected.to_csv('RichHHoutput.csv')"
   ]
  },
  {
   "cell_type": "code",
   "execution_count": null,
   "metadata": {},
   "outputs": [],
   "source": []
  }
 ],
 "metadata": {
  "kernelspec": {
   "display_name": "Python 3",
   "language": "python",
   "name": "python3"
  },
  "language_info": {
   "codemirror_mode": {
    "name": "ipython",
    "version": 3
   },
   "file_extension": ".py",
   "mimetype": "text/x-python",
   "name": "python",
   "nbconvert_exporter": "python",
   "pygments_lexer": "ipython3",
   "version": "3.7.6"
  }
 },
 "nbformat": 4,
 "nbformat_minor": 4
}
